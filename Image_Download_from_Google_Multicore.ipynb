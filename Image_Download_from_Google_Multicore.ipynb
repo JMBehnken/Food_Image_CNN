{
 "cells": [
  {
   "cell_type": "markdown",
   "metadata": {},
   "source": [
    "# Download images from Google to use them in a CNN (Multicore)"
   ]
  },
  {
   "cell_type": "code",
   "execution_count": 1,
   "metadata": {
    "collapsed": true
   },
   "outputs": [],
   "source": [
    "from multiprocessing.dummy import Pool\n",
    "from selenium import webdriver\n",
    "from bs4 import BeautifulSoup\n",
    "from PIL import Image\n",
    "import urllib.request\n",
    "import pyprind\n",
    "import time\n",
    "import io\n",
    "import os"
   ]
  },
  {
   "cell_type": "code",
   "execution_count": 2,
   "metadata": {},
   "outputs": [],
   "source": [
    "url = 'https://www.google.de/search?tbm=isch&q={}'\n",
    "queries = ['apple fruit', 'avocado', 'aubergine', 'banana', 'butter', 'broccoli', 'cherry', 'carrot', 'cucumber', 'durian', 'egg', 'fig', 'fennel', 'grape', 'kiwi', 'leek', 'lemon', 'mango', 'melon', 'meat', 'noodles', 'olive', 'pea', 'potato', 'rice', 'raspberry fruit', 'strawberry', 'zucchini']\n",
    "os.mkdir('Images')"
   ]
  },
  {
   "cell_type": "code",
   "execution_count": 3,
   "metadata": {},
   "outputs": [],
   "source": [
    "def fire(queries):\n",
    "    driver = webdriver.Firefox()\n",
    "    images = []\n",
    "    for query in queries:\n",
    "        food = query.split(' ')[0]\n",
    "        driver.get(url.format(query))\n",
    "        \n",
    "        scroll_start = time.time()\n",
    "        while time.time()-scroll_start<0:\n",
    "            driver.execute_script(\"window.scrollTo(0, document.body.scrollHeight);\")\n",
    "            \n",
    "        html = driver.page_source\n",
    "        bs = BeautifulSoup(html, 'lxml')\n",
    "\n",
    "        for elem in bs.find('div', {'id':'rg_s'}).findAll('img'):\n",
    "            try:\n",
    "                if 'src' in elem.attrs:\n",
    "                    images.append([elem['src'], food])\n",
    "                else:\n",
    "                    images.append([elem['data-src'], food])\n",
    "            except:\n",
    "                pass\n",
    "    driver.close()\n",
    "    return images\n",
    "\n",
    "\n",
    "def download(i):\n",
    "    image = Image.open(io.BytesIO(urllib.request.urlopen(images[i][0]).read()))\n",
    "    resized_image = image.resize((150, 100))\n",
    "    resized_image.convert('RGB').save('Images/{}_{}.jpg'.format(images[i][1], i))\n",
    "    bar.update()"
   ]
  },
  {
   "cell_type": "code",
   "execution_count": 4,
   "metadata": {
    "collapsed": true
   },
   "outputs": [],
   "source": [
    "n = 7\n",
    "chunks = [queries[x:x+n] for x in range(0, len(queries), n)]\n",
    "\n",
    "start1 = time.time()\n",
    "\n",
    "pool = Pool(len(chunks))\n",
    "futures = []\n",
    "for query in chunks:\n",
    "    futures.append(pool.apply_async(fire, [query]))\n",
    "data = [img.get() for img in futures]\n",
    "\n",
    "end1 = time.time()"
   ]
  },
  {
   "cell_type": "code",
   "execution_count": 5,
   "metadata": {},
   "outputs": [
    {
     "name": "stdout",
     "output_type": "stream",
     "text": [
      "Images: 2800\n"
     ]
    }
   ],
   "source": [
    "images = [item for sublist in data for item in sublist]\n",
    "print('Images: {}'.format(len(images)))"
   ]
  },
  {
   "cell_type": "code",
   "execution_count": 6,
   "metadata": {},
   "outputs": [
    {
     "name": "stderr",
     "output_type": "stream",
     "text": [
      "[100 %] Time elapsed: 00:01:45 | ETA: 00:00:00[ 99 %] Time elapsed: 00:01:45 | ETA: 00:00:00[ 94 %] Time elapsed: 00:01:39 | ETA: 00:00:05[ 68 %] Time elapsed: 00:01:09 | ETA: 00:00:32[ 64 %] Time elapsed: 00:01:05 | ETA: 00:00:35\n",
      "Total time elapsed: 00:01:45\n"
     ]
    }
   ],
   "source": [
    "start2 = time.time()\n",
    "\n",
    "pool = Pool(10)\n",
    "futures = []\n",
    "bar = pyprind.ProgPercent(len(images))\n",
    "for i in range(len(images)):\n",
    "    futures.append(pool.apply_async(download, [i]))\n",
    "for titel in futures:\n",
    "                   _ = titel.get()\n",
    "        \n",
    "end2 = time.time()"
   ]
  },
  {
   "cell_type": "code",
   "execution_count": 7,
   "metadata": {},
   "outputs": [
    {
     "name": "stdout",
     "output_type": "stream",
     "text": [
      "Getting the urls\n",
      "Duration:\t54.145533084869385s for 2800 images\n",
      "1 Image:\t0.019337690387453352s\n",
      "1M Images:\t5.371580663181487h\n",
      "\n",
      "Downloading and resizing the images\n",
      "Duration:\t105.33815503120422s for 2800 images\n",
      "1 Image:\t0.03762076965400151s\n",
      "1M Images:\t10.450213792778197h\n"
     ]
    }
   ],
   "source": [
    "print('Getting the urls')\n",
    "print('Duration:\\t{}s for {} images'.format((end1-start1), len(images)))\n",
    "print('1 Image:\\t{}s'.format((end1-start1)/len(images)))\n",
    "print('1M Images:\\t{}h'.format((end1-start1)/len(images)*1000000/60/60))\n",
    "\n",
    "print('\\nDownloading and resizing the images')\n",
    "print('Duration:\\t{}s for {} images'.format((end2-start2), len(images)))\n",
    "print('1 Image:\\t{}s'.format((end2-start2)/len(images)))\n",
    "print('1M Images:\\t{}h'.format((end2-start2)/len(images)*1000000/60/60))"
   ]
  },
  {
   "cell_type": "code",
   "execution_count": null,
   "metadata": {
    "collapsed": true
   },
   "outputs": [],
   "source": []
  }
 ],
 "metadata": {
  "kernelspec": {
   "display_name": "Python 3",
   "language": "python",
   "name": "python3"
  },
  "language_info": {
   "codemirror_mode": {
    "name": "ipython",
    "version": 3
   },
   "file_extension": ".py",
   "mimetype": "text/x-python",
   "name": "python",
   "nbconvert_exporter": "python",
   "pygments_lexer": "ipython3",
   "version": "3.6.1"
  }
 },
 "nbformat": 4,
 "nbformat_minor": 2
}
