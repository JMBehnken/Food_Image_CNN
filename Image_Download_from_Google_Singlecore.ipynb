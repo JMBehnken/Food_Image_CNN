{
 "cells": [
  {
   "cell_type": "markdown",
   "metadata": {},
   "source": [
    "# Download images from Google to use them in a CNN (Singlecore)"
   ]
  },
  {
   "cell_type": "code",
   "execution_count": 1,
   "metadata": {
    "collapsed": true
   },
   "outputs": [],
   "source": [
    "from selenium import webdriver\n",
    "from bs4 import BeautifulSoup\n",
    "from PIL import Image\n",
    "import urllib.request\n",
    "import io\n",
    "import os\n",
    "\n",
    "import time"
   ]
  },
  {
   "cell_type": "code",
   "execution_count": 2,
   "metadata": {},
   "outputs": [],
   "source": [
    "url = 'https://www.google.de/search?tbm=isch&q={}'\n",
    "queries = ['apple', 'avocado', 'aubergine', 'banana', 'butter', 'broccoli', 'cherry', 'carrot', 'cucumber', 'durian', 'egg', 'fig', 'fennel', 'grape', 'kiwi', 'leek', 'lemon', 'mango', 'melon', 'meat', 'noodles', 'olive', 'pea', 'potato', 'rice', 'raspberry', 'strawberry', 'zucchini']\n",
    "\n",
    "os.mkdir('Images_2')"
   ]
  },
  {
   "cell_type": "code",
   "execution_count": 3,
   "metadata": {
    "collapsed": true
   },
   "outputs": [],
   "source": [
    "driver = webdriver.Firefox()"
   ]
  },
  {
   "cell_type": "code",
   "execution_count": 4,
   "metadata": {},
   "outputs": [],
   "source": [
    "start1 = time.time()\n",
    "\n",
    "images = []\n",
    "for query in queries:\n",
    "    food = query.split(' ')[0]\n",
    "    driver.get(url.format(query))\n",
    "    \n",
    "    scroll_start = time.time()\n",
    "    while time.time()-scroll_start<0:\n",
    "        driver.execute_script(\"window.scrollTo(0, document.body.scrollHeight);\")\n",
    "    \n",
    "    html = driver.page_source\n",
    "    bs = BeautifulSoup(html, 'lxml')\n",
    "    \n",
    "    for elem in bs.find('div', {'id':'rg_s'}).findAll('img'):\n",
    "        try:\n",
    "            if 'src' in elem.attrs:\n",
    "                images.append([elem['src'], food])\n",
    "            else:\n",
    "                images.append([elem['data-src'], food])\n",
    "        except:\n",
    "            pass\n",
    "driver.close()\n",
    "        \n",
    "end1 = time.time()\n",
    "start2 = time.time()\n",
    "        \n",
    "for i in range(len(images)):\n",
    "    image = Image.open(io.BytesIO(urllib.request.urlopen(images[i][0]).read()))\n",
    "    resized_image = image.resize((150, 100))\n",
    "    resized_image.convert('RGB').save('Images_2/{}_{}.jpg'.format(images[i][1], i))\n",
    "        \n",
    "end2 = time.time()"
   ]
  },
  {
   "cell_type": "code",
   "execution_count": 5,
   "metadata": {},
   "outputs": [
    {
     "name": "stdout",
     "output_type": "stream",
     "text": [
      "Getting the urls\n",
      "Duration:\t95.08921027183533s for 2800 images\n",
      "1 Image:\t0.03396043223994119s\n",
      "1M Images:\t9.433453399983664h\n",
      "\n",
      "Downloading and resizing the images\n",
      "Duration:\t416.7255976200104s for 2800 images\n",
      "1 Image:\t0.14883057057857513s\n",
      "1M Images:\t41.34182516071532h\n"
     ]
    }
   ],
   "source": [
    "print('Getting the urls')\n",
    "print('Duration:\\t{}s for {} images'.format((end1-start1), len(images)))\n",
    "print('1 Image:\\t{}s'.format((end1-start1)/len(images)))\n",
    "print('1M Images:\\t{}h'.format((end1-start1)/len(images)*1000000/60/60))\n",
    "\n",
    "print('\\nDownloading and resizing the images')\n",
    "print('Duration:\\t{}s for {} images'.format((end2-start2), len(images)))\n",
    "print('1 Image:\\t{}s'.format((end2-start2)/len(images)))\n",
    "print('1M Images:\\t{}h'.format((end2-start2)/len(images)*1000000/60/60))"
   ]
  },
  {
   "cell_type": "code",
   "execution_count": null,
   "metadata": {
    "collapsed": true
   },
   "outputs": [],
   "source": []
  }
 ],
 "metadata": {
  "kernelspec": {
   "display_name": "Python 3",
   "language": "python",
   "name": "python3"
  },
  "language_info": {
   "codemirror_mode": {
    "name": "ipython",
    "version": 3
   },
   "file_extension": ".py",
   "mimetype": "text/x-python",
   "name": "python",
   "nbconvert_exporter": "python",
   "pygments_lexer": "ipython3",
   "version": "3.6.1"
  }
 },
 "nbformat": 4,
 "nbformat_minor": 2
}
